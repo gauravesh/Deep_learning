{
  "nbformat": 4,
  "nbformat_minor": 0,
  "metadata": {
    "colab": {
      "provenance": []
    },
    "kernelspec": {
      "name": "python3",
      "display_name": "Python 3"
    },
    "language_info": {
      "name": "python"
    }
  },
  "cells": [
    {
      "cell_type": "code",
      "source": [
        "import tensorflow as tf\n",
        "from tensorflow import keras\n",
        "import numpy as np"
      ],
      "metadata": {
        "id": "_8-6MdkWMj_U"
      },
      "execution_count": 1,
      "outputs": []
    },
    {
      "cell_type": "code",
      "source": [
        "def generate_time_series(batch_size, n_steps):\n",
        "  freq1, freq2, offsets1, offsets2 = np.random.rand(4, batch_size, 1)\n",
        "  time = np.linspace(0, 1, n_steps)\n",
        "  series = 0.5 * np.sin((time - offsets1) * (freq1 * 10 + 10)) # +wave 1\n",
        "  series += 0.2 * np.sin((time - offsets2) * (freq2 * 20 + 20)) # +wave 2\n",
        "  series += 0.1 * (np.random.rand(batch_size, n_steps) - 0.5) # +noise\n",
        "  return series[..., np.newaxis].astype(np.float32)\n"
      ],
      "metadata": {
        "id": "zeNQjHrMMoed"
      },
      "execution_count": 2,
      "outputs": []
    },
    {
      "cell_type": "code",
      "source": [],
      "metadata": {
        "id": "4m_hC69sM031"
      },
      "execution_count": null,
      "outputs": []
    },
    {
      "cell_type": "code",
      "execution_count": 3,
      "metadata": {
        "colab": {
          "base_uri": "https://localhost:8080/"
        },
        "id": "diRhPL9xM241",
        "outputId": "cd347d75-483f-4b19-8c23-7f6e0f681063"
      },
      "outputs": [
        {
          "output_type": "execute_result",
          "data": {
            "text/plain": [
              "array([0.        , 0.11111111, 0.22222222, 0.33333333, 0.44444444,\n",
              "       0.55555556, 0.66666667, 0.77777778, 0.88888889, 1.        ])"
            ]
          },
          "metadata": {},
          "execution_count": 3
        }
      ],
      "source": [
        "time = np.linspace(0, 1, 10)\n",
        "time"
      ]
    },
    {
      "cell_type": "code",
      "source": [
        "np.random.rand(4, 5, 1)"
      ],
      "metadata": {
        "id": "TtlDWK2bM6Du"
      },
      "execution_count": null,
      "outputs": []
    },
    {
      "cell_type": "code",
      "source": [
        "n_steps = 50\n",
        "series = generate_time_series(10000, n_steps + 1) #forecast the value for next time step\n",
        "X_train, y_train = series[:7000, :n_steps], series[:7000, -1]\n",
        "X_valid, y_valid = series[7000:9000, :n_steps], series[7000:9000, -1]\n",
        "X_test, y_test = series[9000:, :n_steps], series[9000:, -1]"
      ],
      "metadata": {
        "id": "o59-wao_NAjP"
      },
      "execution_count": 5,
      "outputs": []
    },
    {
      "cell_type": "code",
      "source": [
        "#n_steps = 50\n",
        "#series = generate_time_series(50, n_steps + 1) #forecast the value for next time step\n",
        "#X_train, y_train = series[:40, :n_steps], series[:40, -1]\n",
        "#X_valid, y_valid = series[40:45, :n_steps], series[40:45, -1]\n",
        "#X_test, y_test = series[45:, :n_steps], series[40:, -1]"
      ],
      "metadata": {
        "id": "CQcT7jAdNYMA"
      },
      "execution_count": 6,
      "outputs": []
    },
    {
      "cell_type": "code",
      "source": [
        "y_pred = X_valid[:, -1] #all rows with last value\n",
        "np.mean(keras.losses.mean_squared_error(y_valid, y_pred))"
      ],
      "metadata": {
        "colab": {
          "base_uri": "https://localhost:8080/"
        },
        "id": "bfoKJAxxNdvJ",
        "outputId": "c301f345-5abb-4bdc-d33f-778e62754dce"
      },
      "execution_count": 8,
      "outputs": [
        {
          "output_type": "execute_result",
          "data": {
            "text/plain": [
              "0.02033537"
            ]
          },
          "metadata": {},
          "execution_count": 8
        }
      ]
    },
    {
      "cell_type": "code",
      "source": [
        "model = keras.models.Sequential([\n",
        "keras.layers.Flatten(input_shape=[50, 1]),\n",
        "keras.layers.Dense(1)\n",
        "])"
      ],
      "metadata": {
        "id": "b3dL0peFNrUE"
      },
      "execution_count": 9,
      "outputs": []
    },
    {
      "cell_type": "code",
      "source": [
        "model.compile(loss=\"mse\",optimizer=\"adam\")"
      ],
      "metadata": {
        "id": "nVoxPuNtNx8o"
      },
      "execution_count": 10,
      "outputs": []
    },
    {
      "cell_type": "code",
      "source": [
        "history=model.fit(X_train,y_train,epochs=20,validation_data=(X_valid,y_valid))"
      ],
      "metadata": {
        "colab": {
          "base_uri": "https://localhost:8080/"
        },
        "id": "5Ku1j1l2N6TO",
        "outputId": "6d0a5dde-1ab5-4f21-8ecc-3b2d95985be8"
      },
      "execution_count": 11,
      "outputs": [
        {
          "output_type": "stream",
          "name": "stdout",
          "text": [
            "Epoch 1/20\n",
            "219/219 [==============================] - 2s 5ms/step - loss: 0.1541 - val_loss: 0.0488\n",
            "Epoch 2/20\n",
            "219/219 [==============================] - 0s 2ms/step - loss: 0.0371 - val_loss: 0.0271\n",
            "Epoch 3/20\n",
            "219/219 [==============================] - 0s 2ms/step - loss: 0.0225 - val_loss: 0.0179\n",
            "Epoch 4/20\n",
            "219/219 [==============================] - 0s 2ms/step - loss: 0.0157 - val_loss: 0.0131\n",
            "Epoch 5/20\n",
            "219/219 [==============================] - 1s 2ms/step - loss: 0.0121 - val_loss: 0.0106\n",
            "Epoch 6/20\n",
            "219/219 [==============================] - 0s 2ms/step - loss: 0.0102 - val_loss: 0.0092\n",
            "Epoch 7/20\n",
            "219/219 [==============================] - 0s 2ms/step - loss: 0.0090 - val_loss: 0.0083\n",
            "Epoch 8/20\n",
            "219/219 [==============================] - 0s 2ms/step - loss: 0.0082 - val_loss: 0.0076\n",
            "Epoch 9/20\n",
            "219/219 [==============================] - 0s 2ms/step - loss: 0.0075 - val_loss: 0.0070\n",
            "Epoch 10/20\n",
            "219/219 [==============================] - 1s 2ms/step - loss: 0.0069 - val_loss: 0.0065\n",
            "Epoch 11/20\n",
            "219/219 [==============================] - 0s 2ms/step - loss: 0.0064 - val_loss: 0.0060\n",
            "Epoch 12/20\n",
            "219/219 [==============================] - 0s 2ms/step - loss: 0.0059 - val_loss: 0.0055\n",
            "Epoch 13/20\n",
            "219/219 [==============================] - 0s 2ms/step - loss: 0.0055 - val_loss: 0.0052\n",
            "Epoch 14/20\n",
            "219/219 [==============================] - 1s 2ms/step - loss: 0.0052 - val_loss: 0.0049\n",
            "Epoch 15/20\n",
            "219/219 [==============================] - 1s 2ms/step - loss: 0.0050 - val_loss: 0.0048\n",
            "Epoch 16/20\n",
            "219/219 [==============================] - 0s 2ms/step - loss: 0.0048 - val_loss: 0.0045\n",
            "Epoch 17/20\n",
            "219/219 [==============================] - 1s 2ms/step - loss: 0.0046 - val_loss: 0.0043\n",
            "Epoch 18/20\n",
            "219/219 [==============================] - 1s 2ms/step - loss: 0.0044 - val_loss: 0.0042\n",
            "Epoch 19/20\n",
            "219/219 [==============================] - 1s 2ms/step - loss: 0.0043 - val_loss: 0.0042\n",
            "Epoch 20/20\n",
            "219/219 [==============================] - 1s 3ms/step - loss: 0.0042 - val_loss: 0.0040\n"
          ]
        }
      ]
    },
    {
      "cell_type": "code",
      "source": [],
      "metadata": {
        "id": "oaOeRdh4ODuL"
      },
      "execution_count": null,
      "outputs": []
    }
  ]
}